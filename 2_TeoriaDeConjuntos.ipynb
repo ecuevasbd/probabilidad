{
 "cells": [
  {
   "cell_type": "markdown",
   "metadata": {},
   "source": [
    "### Teoría de Conjuntos"
   ]
  },
  {
   "cell_type": "markdown",
   "metadata": {},
   "source": [
    "<div class=\"panel panel-primary\">\n",
    "    <div class=\"panel-heading\">\n",
    "    <strong>Espacio muestral</strong>\n",
    "    </div>\n",
    "    <div class=\"panel-body\">\n",
    "Al conjunto de todos los resultados posibles de un experimento estadístico se le llama <strong>espacio muestral</strong> y se representa con el símbolo <strong>S</strong>\n",
    "    </div>\n",
    "</div>"
   ]
  },
  {
   "cell_type": "markdown",
   "metadata": {},
   "source": [
    "<div class=\"well\">\n",
    "  <div class=\"panel-body\">\n",
    "    A cada resultado en un espacio muestral se le llama <strong>elemento</strong> o <strong>miembro</strong> del espacio muestral, o simplemente <strong>punto muestral</strong>. Si el espacio muestral tiene un número finito de elementos, podemos listar los miembros separados por comas y encerrarlos entre llaves. Por consiguiente, el espacio muestral S, de los resultados posibles cuando se lanza una moneda al aire, se puede escribir como:<br/><br/>\n",
    "            $$S = \\{H, T\\}$$<br/>\n",
    "en donde H y T corresponden a “caras” y “cruces”, respectivamente.\n",
    "    </div>\n",
    "</div>"
   ]
  },
  {
   "cell_type": "markdown",
   "metadata": {},
   "source": [
    "<div class=\"panel panel-info\">\n",
    "    <div class=\"panel-heading\">\n",
    "    <strong>Ejemplo 1:</strong>\n",
    "    </div>\n",
    "    <div class=\"panel-body\">\n",
    "    Considere el experimento de lanzar un dado. Si nos interesara el número que aparece en la cara superior, el espacio muestral sería: <br/><br/>\n",
    "    $$S_{1} = \\{1, 2, 3, 4, 5, 6\\}$$\n",
    "    <br/><br/>\n",
    "Si sólo estuviéramos interesados en si el número es par o impar, el espacio muestral sería simplemente:<br/><br/>\n",
    "     $$S_{2} = \\{par, impar\\}$$\n",
    "    </div>\n",
    "</div>"
   ]
  },
  {
   "cell_type": "markdown",
   "metadata": {},
   "source": [
    "<div class=\"panel panel-info\">\n",
    "    <div class=\"panel-heading\">\n",
    "    <strong>Ejemplo 2:</strong>\n",
    "    </div>\n",
    "    <div class=\"panel-body\">\n",
    "        Suponga que se seleccionan, de forma aleatoria, tres artículos de un proceso de fabricación.\n",
    "        Cada artículo se inspecciona y se clasifica como defectuoso, D, o no defectuoso, N.\n",
    "        Para listar los elementos del espacio muestral que brinde la mayor información, podemos construir\n",
    "        el diagrama de árbol de siguiente figura, de manera que las diversas trayectorias a\n",
    "        lo largo de las ramas del árbol dan los distintos puntos muestrales. Al comenzar con la\n",
    "        primera trayectoria, obtenemos el punto muestral DDD, que indica la posibilidad de que\n",
    "        los tres artículos inspeccionados estén defectuosos. Conforme continuamos a lo largo de\n",
    "        las demás trayectorias, vemos que el espacio muestral es: <br/> <br/>\n",
    "    $$S_{1} = \\{DDD, DDN, DND, DNN, NDD, NDN, NND, NNN\\}$$\n",
    "    \n",
    "    <img src=\"img/modulo1/figura_1.png\">\n",
    "    </div>\n",
    "</div>\n"
   ]
  },
  {
   "cell_type": "markdown",
   "metadata": {},
   "source": [
    "<div class=\"well\">\n",
    "  <div class=\"panel-body\">\n",
    "    Los espacios muestrales con un número grande o infinito de puntos muestrales se describen mejor mediante un <strong>enunciado</strong> o <strong>método de la regla</strong>. Por ejemplo, si el conjunto de resultados posibles de un experimento fuera el conjunto de ciudades en el mundo con una población de más de un millón de habitantes, nuestro espacio muestral se escribiría como: <br/><br/>\n",
    "      \n",
    "<strong>S = {x | x es una ciudad con una población de más de un millón de habitantes}</strong>,<br/><br/>\n",
    "    \n",
    "    que se lee “S es el conjunto de todas las x, tales que x es una ciudad con una población de más de un millón de habitantes”. La barra vertical se lee como “tal que”.\n",
    "    </div>\n",
    "</div>"
   ]
  },
  {
   "cell_type": "markdown",
   "metadata": {},
   "source": [
    "<div class=\"panel panel-primary\">\n",
    "    <div class=\"panel-heading\">\n",
    "    <strong>Evento</strong>\n",
    "    </div>\n",
    "    <div class=\"panel-body\">\n",
    "    Un <strong>evento</strong> es un subconjunto de un espacio muestral.\n",
    "    </div>\n",
    "</div>"
   ]
  },
  {
   "cell_type": "markdown",
   "metadata": {},
   "source": [
    "<div class=\"well\">\n",
    "    <div class=\"panel-body\">\n",
    "        En cualquier experimento dado, podríamos estar interesados en la ocurrencia de ciertos eventos, más que en la ocurrencia de un elemento específico en el espacio muestral. <br/><br/>\n",
    "        \n",
    "        Por ejemplo, quizás estemos interesados en el evento A, en el cual el resultado de lanzar un dado es divisible entre 3. Esto ocurrirá si el resultado es un elemento del subconjunto <strong>A = {3, 6}</strong> del espacio muestral S<SUB>1</SUB> del ejemplo 1. <br/>\n",
    "        Otro ejemplo: podríamos estar interesados en el evento B de que el número de artículos defectuosos sea mayor que 1 en el ejemplo 2. Esto ocurrirá si el resultado es un elemento del subconjunto <strong>B = {DDN, DND, NDD, DDD}</strong> del espacio muestral S<SUB>1</SUB>\n",
    "    </div>\n",
    "</div>"
   ]
  },
  {
   "cell_type": "markdown",
   "metadata": {},
   "source": [
    "<div class=\"panel panel-primary\">\n",
    "    <div class=\"panel-heading\">\n",
    "    <strong>Complemento</strong>\n",
    "    </div>\n",
    "    <div class=\"panel-body\">\n",
    "    El <strong>complemento</strong> de un evento A respecto de S es el subconjunto de todos los elementos de S que no están en A. Denotamos el complemento de A mediante el símbolo A'.\n",
    "    </div>\n",
    "</div>"
   ]
  },
  {
   "cell_type": "markdown",
   "metadata": {},
   "source": [
    "<div class=\"panel panel-info\">\n",
    "    <div class=\"panel-heading\">\n",
    "    <strong>Ejemplo:</strong>\n",
    "    </div>\n",
    "    <div class=\"panel-body\">\n",
    "    Sea <strong>R</strong> el evento de que se seleccione una carta roja de una baraja ordinaria de 52 cartas, y sea <strong>S</strong> toda la baraja. Entonces <strong>R'</strong> es el evento de que la carta seleccionada de la baraja no sea una roja sino una negra.\n",
    "    </div>\n",
    "</div>"
   ]
  },
  {
   "cell_type": "markdown",
   "metadata": {},
   "source": [
    "<div class=\"panel panel-primary\">\n",
    "    <div class=\"panel-heading\">\n",
    "    <strong>Intersección</strong>\n",
    "    </div>\n",
    "    <div class=\"panel-body\">\n",
    "    La <strong>intersección</strong> de dos eventos A y B, que se denota con el símbolo A ∩ B, es el evento que contiene todos los elementos que son comunes a A y a B.\n",
    "    </div>\n",
    "</div>"
   ]
  },
  {
   "cell_type": "markdown",
   "metadata": {},
   "source": [
    "<div class=\"panel panel-info\">\n",
    "    <div class=\"panel-heading\">\n",
    "    <strong>Ejemplo 1:</strong>\n",
    "    </div>\n",
    "    <div class=\"panel-body\">\n",
    "    Sea E el evento de que una persona seleccionada al azar en un salón de clases sea estudiante de ingeniería, y sea F el evento de que la persona sea mujer. Entonces E ∩ F es el evento de todas las estudiantes mujeres de ingeniería en el salón de clases.\n",
    "    </div>\n",
    "</div>"
   ]
  },
  {
   "cell_type": "code",
   "execution_count": 33,
   "metadata": {},
   "outputs": [
    {
     "data": {
      "image/png": "[encoded data removed]",
      "text/plain": [
       "<matplotlib.figure.Figure at 0x7fd4d42cf4a8>"
      ]
     },
     "metadata": {},
     "output_type": "display_data"
    }
   ],
   "source": [
    "from matplotlib import pyplot as plt\n",
    "from matplotlib_venn import venn2\n",
    "\n",
    "E = {'IngenieriaMujer','IngenieriaHombre'}\n",
    "F = {'IngenieriaMujer','ArquitecturaMujer', 'LicenciaturaMujer'}\n",
    "\n",
    "venn2((E, F))\n",
    "plt.show()"
   ]
  },
  {
   "cell_type": "markdown",
   "metadata": {},
   "source": [
    "<div class=\"panel panel-info\">\n",
    "    <div class=\"panel-heading\">\n",
    "    <strong>Ejemplo 2:</strong>\n",
    "    </div>\n",
    "    <div class=\"panel-body\">\n",
    "    Sea A el evento de obtener los enteros del 1 al 10 y B el evento de obtener los números pares del 1 al 20:\n",
    "    $$A = \\{1,2,3,4,5,6,7,8,9,10\\}$$\n",
    "    $$B = \\{2,4,6,8,10,12,14,16,18,20\\}$$\n",
    "    Su intersección, denotada por A ∩ B es el evento de sacar los números pares del 1 al 10, como se muestra en el siguiente código:\n",
    "    </div>\n",
    "</div>"
   ]
  },
  {
   "cell_type": "code",
   "execution_count": 13,
   "metadata": {},
   "outputs": [
    {
     "data": {
      "image/png": "[encoded data removed]",
      "text/plain": [
       "<matplotlib.figure.Figure at 0x7fd4d42129b0>"
      ]
     },
     "metadata": {},
     "output_type": "display_data"
    }
   ],
   "source": [
    "from matplotlib import pyplot as plt\n",
    "from matplotlib_venn import venn2\n",
    "\n",
    "A = {1,2,3,4,5,6,7,8,9,10}\n",
    "B = {2,4,6,8,10,12,14,16,18,20}\n",
    "venn2((A, B))\n",
    "plt.show()"
   ]
  },
  {
   "cell_type": "code",
   "execution_count": 1,
   "metadata": {},
   "outputs": [],
   "source": [
    "A = {'Ing', 'Lic', 'Med', 'Arq'}\n",
    "B = {'H', 'M'}"
   ]
  },
  {
   "cell_type": "code",
   "execution_count": null,
   "metadata": {},
   "outputs": [],
   "source": []
  },
  {
   "cell_type": "markdown",
   "metadata": {},
   "source": [
    "#### Eventos"
   ]
  },
  {
   "cell_type": "code",
   "execution_count": null,
   "metadata": {},
   "outputs": [],
   "source": []
  },
  {
   "cell_type": "code",
   "execution_count": 3,
   "metadata": {},
   "outputs": [],
   "source": [
    "A = {1,2,3,4,5}\n",
    "B = {4,5,6,7,8,9,10}"
   ]
  },
  {
   "cell_type": "code",
   "execution_count": null,
   "metadata": {},
   "outputs": [],
   "source": []
  },
  {
   "cell_type": "code",
   "execution_count": 11,
   "metadata": {},
   "outputs": [
    {
     "data": {
      "image/png": "[encoded data removed]",
      "text/plain": [
       "<matplotlib.figure.Figure at 0x7fd2d9a74390>"
      ]
     },
     "metadata": {},
     "output_type": "display_data"
    }
   ],
   "source": [
    "from matplotlib import pyplot as plt\n",
    "from matplotlib_venn import venn2\n",
    "venn2((A, B))\n",
    "plt.show()"
   ]
  },
  {
   "cell_type": "code",
   "execution_count": 5,
   "metadata": {},
   "outputs": [
    {
     "data": {
      "text/plain": [
       "<matplotlib_venn._common.VennDiagram at 0x7fd2d9cadc18>"
      ]
     },
     "execution_count": 5,
     "metadata": {},
     "output_type": "execute_result"
    },
    {
     "data": {
      "image/png": "[encoded data removed]",
      "text/plain": [
       "<matplotlib.figure.Figure at 0x7fd2d9d4f390>"
      ]
     },
     "metadata": {},
     "output_type": "display_data"
    }
   ],
   "source": [
    "venn2((A, B), set_colors=(\"#888888\", \"#0000FF\"))"
   ]
  },
  {
   "cell_type": "code",
   "execution_count": 15,
   "metadata": {
    "scrolled": true
   },
   "outputs": [
    {
     "data": {
      "text/plain": [
       "[<matplotlib.patches.Circle at 0x7fd2d992e320>,\n",
       " <matplotlib.patches.Circle at 0x7fd2d9b6cb38>,\n",
       " <matplotlib.patches.Circle at 0x7fd2d9b6c048>]"
      ]
     },
     "execution_count": 15,
     "metadata": {},
     "output_type": "execute_result"
    },
    {
     "data": {
      "image/png": "[encoded data removed]",
      "text/plain": [
       "<matplotlib.figure.Figure at 0x7fd2d999eb00>"
      ]
     },
     "metadata": {},
     "output_type": "display_data"
    }
   ],
   "source": [
    "from matplotlib_venn import venn3, venn3_circles\n",
    "subsets = (3, 3, 1, 3, 1, 1, 1)\n",
    "venn3(subsets)\n",
    "venn3_circles(subsets, color=\"#008000\", alpha=1, linestyle=\"-.\", linewidth=3)"
   ]
  },
  {
   "cell_type": "code",
   "execution_count": null,
   "metadata": {},
   "outputs": [],
   "source": []
  },
  {
   "cell_type": "code",
   "execution_count": null,
   "metadata": {},
   "outputs": [],
   "source": []
  },
  {
   "cell_type": "code",
   "execution_count": 44,
   "metadata": {},
   "outputs": [],
   "source": [
    "def factorial(num):\n",
    "    result = 1\n",
    "    for i in range(1,num+1):\n",
    "        print(str(result) + '*' + str(i))\n",
    "        result = result * i\n",
    "    return result"
   ]
  },
  {
   "cell_type": "code",
   "execution_count": 48,
   "metadata": {},
   "outputs": [
    {
     "name": "stdout",
     "output_type": "stream",
     "text": [
      "1*1\n",
      "1*2\n",
      "2*3\n",
      "6*4\n"
     ]
    },
    {
     "data": {
      "text/plain": [
       "24"
      ]
     },
     "execution_count": 48,
     "metadata": {},
     "output_type": "execute_result"
    }
   ],
   "source": [
    "factorial(4)"
   ]
  },
  {
   "cell_type": "code",
   "execution_count": 50,
   "metadata": {},
   "outputs": [
    {
     "data": {
      "text/plain": [
       "8.0"
      ]
     },
     "execution_count": 50,
     "metadata": {},
     "output_type": "execute_result"
    }
   ],
   "source": [
    "24/3"
   ]
  },
  {
   "cell_type": "code",
   "execution_count": null,
   "metadata": {},
   "outputs": [],
   "source": []
  },
  {
   "cell_type": "markdown",
   "metadata": {},
   "source": [
    "<div class=\"panel panel-default\">\n",
    "  <div class=\"panel-body\">\n",
    "    EJEMPLO\n",
    "    </div>\n",
    "</div>"
   ]
  }
 ],
 "metadata": {
  "kernelspec": {
   "display_name": "Python 3",
   "language": "python",
   "name": "python3"
  },
  "language_info": {
   "codemirror_mode": {
    "name": "ipython",
    "version": 3
   },
   "file_extension": ".py",
   "mimetype": "text/x-python",
   "name": "python",
   "nbconvert_exporter": "python",
   "pygments_lexer": "ipython3",
   "version": "3.6.4"
  }
 },
 "nbformat": 4,
 "nbformat_minor": 2
}
